{
  "metadata": {
    "kernelspec": {
      "display_name": "Python 3",
      "name": "python3"
    },
    "language_info": {
      "name": "python",
      "version": "3.7.12",
      "mimetype": "text/x-python",
      "codemirror_mode": {
        "name": "ipython",
        "version": 3
      },
      "pygments_lexer": "ipython3",
      "nbconvert_exporter": "python",
      "file_extension": ".py"
    },
    "colab": {
      "provenance": [],
      "gpuType": "T4",
      "include_colab_link": true
    },
    "accelerator": "GPU"
  },
  "nbformat_minor": 0,
  "nbformat": 4,
  "cells": [
    {
      "cell_type": "markdown",
      "metadata": {
        "id": "view-in-github",
        "colab_type": "text"
      },
      "source": [
        "<a href=\"https://colab.research.google.com/github/Deepak2102-R/hello-world/blob/main/image_caption_for_covid_dataset_val_acc_86_4.ipynb\" target=\"_parent\"><img src=\"https://colab.research.google.com/assets/colab-badge.svg\" alt=\"Open In Colab\"/></a>"
      ]
    },
    {
      "cell_type": "code",
      "source": [
        "from google.colab import drive\n",
        "drive.mount('/content/drive')\n",
        "\n",
        "!mkdir ~/.kaggle"
      ],
      "metadata": {
        "colab": {
          "base_uri": "https://localhost:8080/"
        },
        "id": "ml5M6rOPsRxO",
        "outputId": "b62405b1-f186-4afd-bc0d-c3bb0e5f5bd6"
      },
      "execution_count": 9,
      "outputs": [
        {
          "output_type": "stream",
          "name": "stdout",
          "text": [
            "Drive already mounted at /content/drive; to attempt to forcibly remount, call drive.mount(\"/content/drive\", force_remount=True).\n",
            "mkdir: cannot create directory ‘/root/.kaggle’: File exists\n"
          ]
        }
      ]
    },
    {
      "cell_type": "code",
      "source": [
        "!cp /content/drive/MyDrive/kaggle.json ~/.kaggle/kaggle.json\n",
        "! chmod 600 ~/.kaggle/kaggle.json\n",
        "! kaggle datasets download tawsifurrahman/covid19-radiography-database"
      ],
      "metadata": {
        "colab": {
          "base_uri": "https://localhost:8080/"
        },
        "id": "xbrnNwwlsRhz",
        "outputId": "c816801e-8789-4a3c-c214-034607ec53df"
      },
      "execution_count": 10,
      "outputs": [
        {
          "output_type": "stream",
          "name": "stdout",
          "text": [
            "covid19-radiography-database.zip: Skipping, found more recently modified local copy (use --force to force download)\n"
          ]
        }
      ]
    },
    {
      "cell_type": "code",
      "source": [
        "# !unzip -q /content/covid19-radiography-database.zip"
      ],
      "metadata": {
        "id": "n0jzmMGrsfEo"
      },
      "execution_count": 11,
      "outputs": []
    },
    {
      "cell_type": "code",
      "source": [
        "import tensorflow as tf\n",
        "import os\n",
        "import json\n",
        "import pandas as pd\n",
        "import re\n",
        "import numpy as np\n",
        "import time\n",
        "import matplotlib.pyplot as plt\n",
        "import collections\n",
        "import random\n",
        "import requests\n",
        "import json\n",
        "from math import sqrt\n",
        "from PIL import Image\n",
        "from tqdm.auto import tqdm\n",
        "import os"
      ],
      "metadata": {
        "execution": {
          "iopub.status.busy": "2023-04-01T10:47:02.822765Z",
          "iopub.execute_input": "2023-04-01T10:47:02.823171Z",
          "iopub.status.idle": "2023-04-01T10:47:11.236867Z",
          "shell.execute_reply.started": "2023-04-01T10:47:02.823137Z",
          "shell.execute_reply": "2023-04-01T10:47:11.235759Z"
        },
        "trusted": true,
        "id": "tSaAZYs6p-7f"
      },
      "execution_count": 12,
      "outputs": []
    },
    {
      "cell_type": "code",
      "source": [
        "from google.colab import drive\n",
        "drive.mount('/content/drive')"
      ],
      "metadata": {
        "id": "NzfxeQ8xqfVn",
        "outputId": "fc7286b7-611b-4e5f-cdd7-5b7bfa150b07",
        "colab": {
          "base_uri": "https://localhost:8080/"
        }
      },
      "execution_count": 13,
      "outputs": [
        {
          "output_type": "stream",
          "name": "stdout",
          "text": [
            "Drive already mounted at /content/drive; to attempt to forcibly remount, call drive.mount(\"/content/drive\", force_remount=True).\n"
          ]
        }
      ]
    },
    {
      "cell_type": "code",
      "source": [
        "covidDataPath='/content/input/covid19-radiography-database/COVID-19_Radiography_Dataset/COVID'\n",
        "pneumoniaDataPath='/content/input/covid19-radiography-database/COVID-19_Radiography_Dataset/Viral Pneumonia'\n",
        "normalDataPath='/content/input/covid19-radiography-database/COVID-19_Radiography_Dataset/Normal'\n",
        "lungopacityDataPath = '/content/input/covid19-radiography-database/COVID-19_Radiography_Dataset/Lung_Opacity'"
      ],
      "metadata": {
        "execution": {
          "iopub.status.busy": "2023-04-01T10:47:11.239015Z",
          "iopub.execute_input": "2023-04-01T10:47:11.239809Z",
          "iopub.status.idle": "2023-04-01T10:47:11.244612Z",
          "shell.execute_reply.started": "2023-04-01T10:47:11.239777Z",
          "shell.execute_reply": "2023-04-01T10:47:11.243601Z"
        },
        "trusted": true,
        "id": "v7AjMTekp-7h"
      },
      "execution_count": 14,
      "outputs": []
    },
    {
      "cell_type": "code",
      "source": [
        "# Lists for access paths\n",
        "listCovidPaths = []\n",
        "listNormalPaths = []\n",
        "listPneumoniaPaths = []\n",
        "listLOPaths = []\n",
        "\n",
        "# Get covid images files paths\n",
        "for root, directories, files in os.walk(covidDataPath):\n",
        "    for name in files:\n",
        "        listCovidPaths.append(os.path.join(root, name))\n",
        "# Get Pneumonia images files paths\n",
        "for root, directories, files in os.walk(pneumoniaDataPath):\n",
        "    for name in files:\n",
        "        listPneumoniaPaths.append(os.path.join(root, name))\n",
        "\n",
        "# Get normal images files paths\n",
        "for root, directories, files in os.walk(normalDataPath):\n",
        "    for name in files:\n",
        "        listNormalPaths.append(os.path.join(root, name))\n",
        "\n",
        "# Get lung opacity images files paths\n",
        "for root, directories, files in os.walk(lungopacityDataPath):\n",
        "    for name in files:\n",
        "        listLOPaths.append(os.path.join(root, name))\n",
        "\n",
        "\n",
        "# Shuffle lists for random train / test\n",
        "\n",
        "random.shuffle(listCovidPaths)\n",
        "random.shuffle(listNormalPaths)\n",
        "random.shuffle(listPneumoniaPaths)\n",
        "random.shuffle(listLOPaths)"
      ],
      "metadata": {
        "execution": {
          "iopub.status.busy": "2023-04-01T10:47:11.246420Z",
          "iopub.execute_input": "2023-04-01T10:47:11.247165Z",
          "iopub.status.idle": "2023-04-01T10:47:41.811480Z",
          "shell.execute_reply.started": "2023-04-01T10:47:11.247101Z",
          "shell.execute_reply": "2023-04-01T10:47:41.810443Z"
        },
        "trusted": true,
        "id": "XlHCuQ7mp-7i"
      },
      "execution_count": 15,
      "outputs": []
    },
    {
      "cell_type": "code",
      "source": [
        "# main folder\n",
        "!mkdir ./Data/\n",
        "\n",
        "# Train data folders\n",
        "!mkdir ./Data/Train/\n",
        "\n",
        "# Valid data folders\n",
        "!mkdir ./Data/Valid/\n",
        "\n",
        "# Paths to train folders\n",
        "pathTrain = './Data/Train/'\n",
        "\n",
        "# Paths to valid folders\n",
        "pathValid='./Data/Valid/'\n"
      ],
      "metadata": {
        "execution": {
          "iopub.status.busy": "2023-04-01T10:47:41.814249Z",
          "iopub.execute_input": "2023-04-01T10:47:41.814628Z",
          "iopub.status.idle": "2023-04-01T10:47:44.665228Z",
          "shell.execute_reply.started": "2023-04-01T10:47:41.814589Z",
          "shell.execute_reply": "2023-04-01T10:47:44.663880Z"
        },
        "trusted": true,
        "id": "OawaH6gDp-7i"
      },
      "execution_count": 16,
      "outputs": []
    },
    {
      "cell_type": "code",
      "source": [
        "from distutils.file_util import copy_file"
      ],
      "metadata": {
        "execution": {
          "iopub.status.busy": "2023-04-01T10:47:44.666935Z",
          "iopub.execute_input": "2023-04-01T10:47:44.667262Z",
          "iopub.status.idle": "2023-04-01T10:47:44.674178Z",
          "shell.execute_reply.started": "2023-04-01T10:47:44.667229Z",
          "shell.execute_reply": "2023-04-01T10:47:44.672886Z"
        },
        "trusted": true,
        "id": "3rV3St3op-7j"
      },
      "execution_count": 17,
      "outputs": []
    },
    {
      "cell_type": "code",
      "source": [
        "\"\"\"\n",
        "Moving files to new folders\n",
        "\"\"\"\n",
        "\n",
        "\n",
        "# Move covid images files to new folders\n",
        "for i in range(7232):\n",
        "    if i < 7232:\n",
        "        copy_file(listCovidPaths[i], pathTrain)\n",
        "    else  :\n",
        "        copy_file(listCovidPaths[i], pathValid)\n",
        "\n",
        "for i in range(20384):\n",
        "    if i < 20384:\n",
        "        copy_file(listNormalPaths[i], pathTrain)\n",
        "    else  :\n",
        "        copy_file(listNormalPaths[i], pathValid)\n",
        "\n",
        "for i in range(2690):\n",
        "    if i < 2690:\n",
        "        copy_file(listPneumoniaPaths[i], pathTrain)\n",
        "    else  :\n",
        "        copy_file(listPneumoniaPaths[i], pathValid)\n",
        "\n",
        "for i in range(12024):\n",
        "    if i < 12024:\n",
        "        copy_file(listLOPaths[i], pathTrain)\n",
        "    else  :\n",
        "        copy_file(listLOPaths[i], pathValid)"
      ],
      "metadata": {
        "execution": {
          "iopub.status.busy": "2023-04-01T10:47:44.676152Z",
          "iopub.execute_input": "2023-04-01T10:47:44.676634Z",
          "iopub.status.idle": "2023-04-01T10:50:20.993714Z",
          "shell.execute_reply.started": "2023-04-01T10:47:44.676595Z",
          "shell.execute_reply": "2023-04-01T10:50:20.992495Z"
        },
        "trusted": true,
        "id": "1iwEWrDFp-7j"
      },
      "execution_count": 18,
      "outputs": []
    },
    {
      "cell_type": "code",
      "source": [
        "with open('/content/input/crd-caption/train_captions.json', 'r') as f:\n",
        "    captions = json.load(f)"
      ],
      "metadata": {
        "execution": {
          "iopub.status.busy": "2023-04-01T10:50:20.996226Z",
          "iopub.execute_input": "2023-04-01T10:50:20.996532Z",
          "iopub.status.idle": "2023-04-01T10:50:21.050897Z",
          "shell.execute_reply.started": "2023-04-01T10:50:20.996500Z",
          "shell.execute_reply": "2023-04-01T10:50:21.049844Z"
        },
        "trusted": true,
        "id": "o4KytccQp-7j"
      },
      "execution_count": 19,
      "outputs": []
    },
    {
      "cell_type": "code",
      "source": [
        "img_cap_pairs = []\n",
        "for image_path, caption_info in captions.items():\n",
        "    img_name = os.path.basename(image_path)\n",
        "    img_cap_pairs.append([img_name, caption_info['caption']])"
      ],
      "metadata": {
        "execution": {
          "iopub.status.busy": "2023-04-01T10:50:21.052625Z",
          "iopub.execute_input": "2023-04-01T10:50:21.053315Z",
          "iopub.status.idle": "2023-04-01T10:50:21.078856Z",
          "shell.execute_reply.started": "2023-04-01T10:50:21.053274Z",
          "shell.execute_reply": "2023-04-01T10:50:21.077869Z"
        },
        "trusted": true,
        "id": "jIw5Trkip-7k"
      },
      "execution_count": 20,
      "outputs": []
    },
    {
      "cell_type": "code",
      "source": [
        "captions_df = pd.DataFrame(img_cap_pairs, columns=['image', 'caption'])"
      ],
      "metadata": {
        "execution": {
          "iopub.status.busy": "2023-04-01T10:50:21.082092Z",
          "iopub.execute_input": "2023-04-01T10:50:21.082373Z",
          "iopub.status.idle": "2023-04-01T10:50:21.096967Z",
          "shell.execute_reply.started": "2023-04-01T10:50:21.082347Z",
          "shell.execute_reply": "2023-04-01T10:50:21.096054Z"
        },
        "trusted": true,
        "id": "TnkyNPYpp-7k"
      },
      "execution_count": 21,
      "outputs": []
    },
    {
      "cell_type": "code",
      "source": [
        "dataPath = pathTrain\n",
        "captions_df['image'] = captions_df['image'].apply(lambda x: os.path.join(dataPath, x))"
      ],
      "metadata": {
        "execution": {
          "iopub.status.busy": "2023-04-01T10:50:21.103035Z",
          "iopub.execute_input": "2023-04-01T10:50:21.103696Z",
          "iopub.status.idle": "2023-04-01T10:50:21.137332Z",
          "shell.execute_reply.started": "2023-04-01T10:50:21.103659Z",
          "shell.execute_reply": "2023-04-01T10:50:21.136377Z"
        },
        "trusted": true,
        "id": "9-sdnULIp-7k"
      },
      "execution_count": 22,
      "outputs": []
    },
    {
      "cell_type": "code",
      "source": [
        "print(captions_df.shape)"
      ],
      "metadata": {
        "execution": {
          "iopub.status.busy": "2023-04-01T10:50:21.138919Z",
          "iopub.execute_input": "2023-04-01T10:50:21.139282Z",
          "iopub.status.idle": "2023-04-01T10:50:21.145590Z",
          "shell.execute_reply.started": "2023-04-01T10:50:21.139247Z",
          "shell.execute_reply": "2023-04-01T10:50:21.144370Z"
        },
        "trusted": true,
        "id": "2RbYnsDcp-7l",
        "outputId": "a8318d21-ef6f-48aa-a4aa-75b07797a492",
        "colab": {
          "base_uri": "https://localhost:8080/"
        }
      },
      "execution_count": 23,
      "outputs": [
        {
          "output_type": "stream",
          "name": "stdout",
          "text": [
            "(15153, 2)\n"
          ]
        }
      ]
    },
    {
      "cell_type": "code",
      "source": [
        "captions_df = captions_df.sample(12000)\n",
        "captions_df = captions_df.reset_index(drop=True)"
      ],
      "metadata": {
        "execution": {
          "iopub.status.busy": "2023-04-01T10:50:21.147316Z",
          "iopub.execute_input": "2023-04-01T10:50:21.148002Z",
          "iopub.status.idle": "2023-04-01T10:50:21.158761Z",
          "shell.execute_reply.started": "2023-04-01T10:50:21.147966Z",
          "shell.execute_reply": "2023-04-01T10:50:21.157858Z"
        },
        "trusted": true,
        "id": "99HFIHWBp-7m"
      },
      "execution_count": 24,
      "outputs": []
    },
    {
      "cell_type": "code",
      "source": [
        "captions_df.head()"
      ],
      "metadata": {
        "execution": {
          "iopub.status.busy": "2023-04-01T10:50:21.160329Z",
          "iopub.execute_input": "2023-04-01T10:50:21.160750Z",
          "iopub.status.idle": "2023-04-01T10:50:21.177421Z",
          "shell.execute_reply.started": "2023-04-01T10:50:21.160715Z",
          "shell.execute_reply": "2023-04-01T10:50:21.176485Z"
        },
        "trusted": true,
        "id": "ZyzGOoAnp-7m",
        "outputId": "d0ea8917-be66-48f1-8d9d-e8609bdcdda5",
        "colab": {
          "base_uri": "https://localhost:8080/",
          "height": 206
        }
      },
      "execution_count": 25,
      "outputs": [
        {
          "output_type": "execute_result",
          "data": {
            "text/plain": [
              "                                  image  \\\n",
              "0          ./Data/Train/Normal-5501.png   \n",
              "1          ./Data/Train/Normal-6333.png   \n",
              "2            ./Data/Train/COVID-802.png   \n",
              "3  ./Data/Train/Viral Pneumonia-163.png   \n",
              "4  ./Data/Train/Viral Pneumonia-408.png   \n",
              "\n",
              "                                             caption  \n",
              "0     The respiratory system is normal in this case.  \n",
              "1  This is an example of a healthy respiratory sy...  \n",
              "2               The patient is diagnosed with Covid.  \n",
              "3           The patient is diagnosed with pneumonia.  \n",
              "4        This scenario involves bacterial pneumonia.  "
            ],
            "text/html": [
              "\n",
              "  <div id=\"df-7c6a35bd-02f9-4629-be37-957729795df3\" class=\"colab-df-container\">\n",
              "    <div>\n",
              "<style scoped>\n",
              "    .dataframe tbody tr th:only-of-type {\n",
              "        vertical-align: middle;\n",
              "    }\n",
              "\n",
              "    .dataframe tbody tr th {\n",
              "        vertical-align: top;\n",
              "    }\n",
              "\n",
              "    .dataframe thead th {\n",
              "        text-align: right;\n",
              "    }\n",
              "</style>\n",
              "<table border=\"1\" class=\"dataframe\">\n",
              "  <thead>\n",
              "    <tr style=\"text-align: right;\">\n",
              "      <th></th>\n",
              "      <th>image</th>\n",
              "      <th>caption</th>\n",
              "    </tr>\n",
              "  </thead>\n",
              "  <tbody>\n",
              "    <tr>\n",
              "      <th>0</th>\n",
              "      <td>./Data/Train/Normal-5501.png</td>\n",
              "      <td>The respiratory system is normal in this case.</td>\n",
              "    </tr>\n",
              "    <tr>\n",
              "      <th>1</th>\n",
              "      <td>./Data/Train/Normal-6333.png</td>\n",
              "      <td>This is an example of a healthy respiratory sy...</td>\n",
              "    </tr>\n",
              "    <tr>\n",
              "      <th>2</th>\n",
              "      <td>./Data/Train/COVID-802.png</td>\n",
              "      <td>The patient is diagnosed with Covid.</td>\n",
              "    </tr>\n",
              "    <tr>\n",
              "      <th>3</th>\n",
              "      <td>./Data/Train/Viral Pneumonia-163.png</td>\n",
              "      <td>The patient is diagnosed with pneumonia.</td>\n",
              "    </tr>\n",
              "    <tr>\n",
              "      <th>4</th>\n",
              "      <td>./Data/Train/Viral Pneumonia-408.png</td>\n",
              "      <td>This scenario involves bacterial pneumonia.</td>\n",
              "    </tr>\n",
              "  </tbody>\n",
              "</table>\n",
              "</div>\n",
              "    <div class=\"colab-df-buttons\">\n",
              "\n",
              "  <div class=\"colab-df-container\">\n",
              "    <button class=\"colab-df-convert\" onclick=\"convertToInteractive('df-7c6a35bd-02f9-4629-be37-957729795df3')\"\n",
              "            title=\"Convert this dataframe to an interactive table.\"\n",
              "            style=\"display:none;\">\n",
              "\n",
              "  <svg xmlns=\"http://www.w3.org/2000/svg\" height=\"24px\" viewBox=\"0 -960 960 960\">\n",
              "    <path d=\"M120-120v-720h720v720H120Zm60-500h600v-160H180v160Zm220 220h160v-160H400v160Zm0 220h160v-160H400v160ZM180-400h160v-160H180v160Zm440 0h160v-160H620v160ZM180-180h160v-160H180v160Zm440 0h160v-160H620v160Z\"/>\n",
              "  </svg>\n",
              "    </button>\n",
              "\n",
              "  <style>\n",
              "    .colab-df-container {\n",
              "      display:flex;\n",
              "      gap: 12px;\n",
              "    }\n",
              "\n",
              "    .colab-df-convert {\n",
              "      background-color: #E8F0FE;\n",
              "      border: none;\n",
              "      border-radius: 50%;\n",
              "      cursor: pointer;\n",
              "      display: none;\n",
              "      fill: #1967D2;\n",
              "      height: 32px;\n",
              "      padding: 0 0 0 0;\n",
              "      width: 32px;\n",
              "    }\n",
              "\n",
              "    .colab-df-convert:hover {\n",
              "      background-color: #E2EBFA;\n",
              "      box-shadow: 0px 1px 2px rgba(60, 64, 67, 0.3), 0px 1px 3px 1px rgba(60, 64, 67, 0.15);\n",
              "      fill: #174EA6;\n",
              "    }\n",
              "\n",
              "    .colab-df-buttons div {\n",
              "      margin-bottom: 4px;\n",
              "    }\n",
              "\n",
              "    [theme=dark] .colab-df-convert {\n",
              "      background-color: #3B4455;\n",
              "      fill: #D2E3FC;\n",
              "    }\n",
              "\n",
              "    [theme=dark] .colab-df-convert:hover {\n",
              "      background-color: #434B5C;\n",
              "      box-shadow: 0px 1px 3px 1px rgba(0, 0, 0, 0.15);\n",
              "      filter: drop-shadow(0px 1px 2px rgba(0, 0, 0, 0.3));\n",
              "      fill: #FFFFFF;\n",
              "    }\n",
              "  </style>\n",
              "\n",
              "    <script>\n",
              "      const buttonEl =\n",
              "        document.querySelector('#df-7c6a35bd-02f9-4629-be37-957729795df3 button.colab-df-convert');\n",
              "      buttonEl.style.display =\n",
              "        google.colab.kernel.accessAllowed ? 'block' : 'none';\n",
              "\n",
              "      async function convertToInteractive(key) {\n",
              "        const element = document.querySelector('#df-7c6a35bd-02f9-4629-be37-957729795df3');\n",
              "        const dataTable =\n",
              "          await google.colab.kernel.invokeFunction('convertToInteractive',\n",
              "                                                    [key], {});\n",
              "        if (!dataTable) return;\n",
              "\n",
              "        const docLinkHtml = 'Like what you see? Visit the ' +\n",
              "          '<a target=\"_blank\" href=https://colab.research.google.com/notebooks/data_table.ipynb>data table notebook</a>'\n",
              "          + ' to learn more about interactive tables.';\n",
              "        element.innerHTML = '';\n",
              "        dataTable['output_type'] = 'display_data';\n",
              "        await google.colab.output.renderOutput(dataTable, element);\n",
              "        const docLink = document.createElement('div');\n",
              "        docLink.innerHTML = docLinkHtml;\n",
              "        element.appendChild(docLink);\n",
              "      }\n",
              "    </script>\n",
              "  </div>\n",
              "\n",
              "\n",
              "<div id=\"df-55dad6d9-f17b-43f4-9d28-94ca2199b916\">\n",
              "  <button class=\"colab-df-quickchart\" onclick=\"quickchart('df-55dad6d9-f17b-43f4-9d28-94ca2199b916')\"\n",
              "            title=\"Suggest charts\"\n",
              "            style=\"display:none;\">\n",
              "\n",
              "<svg xmlns=\"http://www.w3.org/2000/svg\" height=\"24px\"viewBox=\"0 0 24 24\"\n",
              "     width=\"24px\">\n",
              "    <g>\n",
              "        <path d=\"M19 3H5c-1.1 0-2 .9-2 2v14c0 1.1.9 2 2 2h14c1.1 0 2-.9 2-2V5c0-1.1-.9-2-2-2zM9 17H7v-7h2v7zm4 0h-2V7h2v10zm4 0h-2v-4h2v4z\"/>\n",
              "    </g>\n",
              "</svg>\n",
              "  </button>\n",
              "\n",
              "<style>\n",
              "  .colab-df-quickchart {\n",
              "      --bg-color: #E8F0FE;\n",
              "      --fill-color: #1967D2;\n",
              "      --hover-bg-color: #E2EBFA;\n",
              "      --hover-fill-color: #174EA6;\n",
              "      --disabled-fill-color: #AAA;\n",
              "      --disabled-bg-color: #DDD;\n",
              "  }\n",
              "\n",
              "  [theme=dark] .colab-df-quickchart {\n",
              "      --bg-color: #3B4455;\n",
              "      --fill-color: #D2E3FC;\n",
              "      --hover-bg-color: #434B5C;\n",
              "      --hover-fill-color: #FFFFFF;\n",
              "      --disabled-bg-color: #3B4455;\n",
              "      --disabled-fill-color: #666;\n",
              "  }\n",
              "\n",
              "  .colab-df-quickchart {\n",
              "    background-color: var(--bg-color);\n",
              "    border: none;\n",
              "    border-radius: 50%;\n",
              "    cursor: pointer;\n",
              "    display: none;\n",
              "    fill: var(--fill-color);\n",
              "    height: 32px;\n",
              "    padding: 0;\n",
              "    width: 32px;\n",
              "  }\n",
              "\n",
              "  .colab-df-quickchart:hover {\n",
              "    background-color: var(--hover-bg-color);\n",
              "    box-shadow: 0 1px 2px rgba(60, 64, 67, 0.3), 0 1px 3px 1px rgba(60, 64, 67, 0.15);\n",
              "    fill: var(--button-hover-fill-color);\n",
              "  }\n",
              "\n",
              "  .colab-df-quickchart-complete:disabled,\n",
              "  .colab-df-quickchart-complete:disabled:hover {\n",
              "    background-color: var(--disabled-bg-color);\n",
              "    fill: var(--disabled-fill-color);\n",
              "    box-shadow: none;\n",
              "  }\n",
              "\n",
              "  .colab-df-spinner {\n",
              "    border: 2px solid var(--fill-color);\n",
              "    border-color: transparent;\n",
              "    border-bottom-color: var(--fill-color);\n",
              "    animation:\n",
              "      spin 1s steps(1) infinite;\n",
              "  }\n",
              "\n",
              "  @keyframes spin {\n",
              "    0% {\n",
              "      border-color: transparent;\n",
              "      border-bottom-color: var(--fill-color);\n",
              "      border-left-color: var(--fill-color);\n",
              "    }\n",
              "    20% {\n",
              "      border-color: transparent;\n",
              "      border-left-color: var(--fill-color);\n",
              "      border-top-color: var(--fill-color);\n",
              "    }\n",
              "    30% {\n",
              "      border-color: transparent;\n",
              "      border-left-color: var(--fill-color);\n",
              "      border-top-color: var(--fill-color);\n",
              "      border-right-color: var(--fill-color);\n",
              "    }\n",
              "    40% {\n",
              "      border-color: transparent;\n",
              "      border-right-color: var(--fill-color);\n",
              "      border-top-color: var(--fill-color);\n",
              "    }\n",
              "    60% {\n",
              "      border-color: transparent;\n",
              "      border-right-color: var(--fill-color);\n",
              "    }\n",
              "    80% {\n",
              "      border-color: transparent;\n",
              "      border-right-color: var(--fill-color);\n",
              "      border-bottom-color: var(--fill-color);\n",
              "    }\n",
              "    90% {\n",
              "      border-color: transparent;\n",
              "      border-bottom-color: var(--fill-color);\n",
              "    }\n",
              "  }\n",
              "</style>\n",
              "\n",
              "  <script>\n",
              "    async function quickchart(key) {\n",
              "      const quickchartButtonEl =\n",
              "        document.querySelector('#' + key + ' button');\n",
              "      quickchartButtonEl.disabled = true;  // To prevent multiple clicks.\n",
              "      quickchartButtonEl.classList.add('colab-df-spinner');\n",
              "      try {\n",
              "        const charts = await google.colab.kernel.invokeFunction(\n",
              "            'suggestCharts', [key], {});\n",
              "      } catch (error) {\n",
              "        console.error('Error during call to suggestCharts:', error);\n",
              "      }\n",
              "      quickchartButtonEl.classList.remove('colab-df-spinner');\n",
              "      quickchartButtonEl.classList.add('colab-df-quickchart-complete');\n",
              "    }\n",
              "    (() => {\n",
              "      let quickchartButtonEl =\n",
              "        document.querySelector('#df-55dad6d9-f17b-43f4-9d28-94ca2199b916 button');\n",
              "      quickchartButtonEl.style.display =\n",
              "        google.colab.kernel.accessAllowed ? 'block' : 'none';\n",
              "    })();\n",
              "  </script>\n",
              "</div>\n",
              "    </div>\n",
              "  </div>\n"
            ]
          },
          "metadata": {},
          "execution_count": 25
        }
      ]
    },
    {
      "cell_type": "code",
      "source": [
        "def preprocess(text):\n",
        "    text = text.lower()\n",
        "    text = re.sub(r'[^\\w\\s]', '', text)\n",
        "    text = re.sub('\\s+', ' ', text)\n",
        "    text = text.strip()\n",
        "    text = '[start] ' + text + ' [end]'\n",
        "    return text"
      ],
      "metadata": {
        "execution": {
          "iopub.status.busy": "2023-04-01T10:50:21.178726Z",
          "iopub.execute_input": "2023-04-01T10:50:21.179166Z",
          "iopub.status.idle": "2023-04-01T10:50:21.185158Z",
          "shell.execute_reply.started": "2023-04-01T10:50:21.179130Z",
          "shell.execute_reply": "2023-04-01T10:50:21.184044Z"
        },
        "trusted": true,
        "id": "kwC0Ptmnp-7n"
      },
      "execution_count": 26,
      "outputs": []
    },
    {
      "cell_type": "code",
      "source": [
        "captions_df['caption'] = captions_df['caption'].apply(preprocess)\n",
        "captions_df.head()"
      ],
      "metadata": {
        "execution": {
          "iopub.status.busy": "2023-04-01T10:50:21.186383Z",
          "iopub.execute_input": "2023-04-01T10:50:21.187156Z",
          "iopub.status.idle": "2023-04-01T10:50:21.268400Z",
          "shell.execute_reply.started": "2023-04-01T10:50:21.187121Z",
          "shell.execute_reply": "2023-04-01T10:50:21.267226Z"
        },
        "trusted": true,
        "id": "QxtZzLszp-7n",
        "outputId": "9c9602b9-5b6c-47d2-a8e1-2cc50544779d",
        "colab": {
          "base_uri": "https://localhost:8080/",
          "height": 206
        }
      },
      "execution_count": 27,
      "outputs": [
        {
          "output_type": "execute_result",
          "data": {
            "text/plain": [
              "                                  image  \\\n",
              "0          ./Data/Train/Normal-5501.png   \n",
              "1          ./Data/Train/Normal-6333.png   \n",
              "2            ./Data/Train/COVID-802.png   \n",
              "3  ./Data/Train/Viral Pneumonia-163.png   \n",
              "4  ./Data/Train/Viral Pneumonia-408.png   \n",
              "\n",
              "                                             caption  \n",
              "0  [start] the respiratory system is normal in th...  \n",
              "1  [start] this is an example of a healthy respir...  \n",
              "2  [start] the patient is diagnosed with covid [end]  \n",
              "3  [start] the patient is diagnosed with pneumoni...  \n",
              "4  [start] this scenario involves bacterial pneum...  "
            ],
            "text/html": [
              "\n",
              "  <div id=\"df-6c1b0494-b538-4f35-ada8-858504c4ffe3\" class=\"colab-df-container\">\n",
              "    <div>\n",
              "<style scoped>\n",
              "    .dataframe tbody tr th:only-of-type {\n",
              "        vertical-align: middle;\n",
              "    }\n",
              "\n",
              "    .dataframe tbody tr th {\n",
              "        vertical-align: top;\n",
              "    }\n",
              "\n",
              "    .dataframe thead th {\n",
              "        text-align: right;\n",
              "    }\n",
              "</style>\n",
              "<table border=\"1\" class=\"dataframe\">\n",
              "  <thead>\n",
              "    <tr style=\"text-align: right;\">\n",
              "      <th></th>\n",
              "      <th>image</th>\n",
              "      <th>caption</th>\n",
              "    </tr>\n",
              "  </thead>\n",
              "  <tbody>\n",
              "    <tr>\n",
              "      <th>0</th>\n",
              "      <td>./Data/Train/Normal-5501.png</td>\n",
              "      <td>[start] the respiratory system is normal in th...</td>\n",
              "    </tr>\n",
              "    <tr>\n",
              "      <th>1</th>\n",
              "      <td>./Data/Train/Normal-6333.png</td>\n",
              "      <td>[start] this is an example of a healthy respir...</td>\n",
              "    </tr>\n",
              "    <tr>\n",
              "      <th>2</th>\n",
              "      <td>./Data/Train/COVID-802.png</td>\n",
              "      <td>[start] the patient is diagnosed with covid [end]</td>\n",
              "    </tr>\n",
              "    <tr>\n",
              "      <th>3</th>\n",
              "      <td>./Data/Train/Viral Pneumonia-163.png</td>\n",
              "      <td>[start] the patient is diagnosed with pneumoni...</td>\n",
              "    </tr>\n",
              "    <tr>\n",
              "      <th>4</th>\n",
              "      <td>./Data/Train/Viral Pneumonia-408.png</td>\n",
              "      <td>[start] this scenario involves bacterial pneum...</td>\n",
              "    </tr>\n",
              "  </tbody>\n",
              "</table>\n",
              "</div>\n",
              "    <div class=\"colab-df-buttons\">\n",
              "\n",
              "  <div class=\"colab-df-container\">\n",
              "    <button class=\"colab-df-convert\" onclick=\"convertToInteractive('df-6c1b0494-b538-4f35-ada8-858504c4ffe3')\"\n",
              "            title=\"Convert this dataframe to an interactive table.\"\n",
              "            style=\"display:none;\">\n",
              "\n",
              "  <svg xmlns=\"http://www.w3.org/2000/svg\" height=\"24px\" viewBox=\"0 -960 960 960\">\n",
              "    <path d=\"M120-120v-720h720v720H120Zm60-500h600v-160H180v160Zm220 220h160v-160H400v160Zm0 220h160v-160H400v160ZM180-400h160v-160H180v160Zm440 0h160v-160H620v160ZM180-180h160v-160H180v160Zm440 0h160v-160H620v160Z\"/>\n",
              "  </svg>\n",
              "    </button>\n",
              "\n",
              "  <style>\n",
              "    .colab-df-container {\n",
              "      display:flex;\n",
              "      gap: 12px;\n",
              "    }\n",
              "\n",
              "    .colab-df-convert {\n",
              "      background-color: #E8F0FE;\n",
              "      border: none;\n",
              "      border-radius: 50%;\n",
              "      cursor: pointer;\n",
              "      display: none;\n",
              "      fill: #1967D2;\n",
              "      height: 32px;\n",
              "      padding: 0 0 0 0;\n",
              "      width: 32px;\n",
              "    }\n",
              "\n",
              "    .colab-df-convert:hover {\n",
              "      background-color: #E2EBFA;\n",
              "      box-shadow: 0px 1px 2px rgba(60, 64, 67, 0.3), 0px 1px 3px 1px rgba(60, 64, 67, 0.15);\n",
              "      fill: #174EA6;\n",
              "    }\n",
              "\n",
              "    .colab-df-buttons div {\n",
              "      margin-bottom: 4px;\n",
              "    }\n",
              "\n",
              "    [theme=dark] .colab-df-convert {\n",
              "      background-color: #3B4455;\n",
              "      fill: #D2E3FC;\n",
              "    }\n",
              "\n",
              "    [theme=dark] .colab-df-convert:hover {\n",
              "      background-color: #434B5C;\n",
              "      box-shadow: 0px 1px 3px 1px rgba(0, 0, 0, 0.15);\n",
              "      filter: drop-shadow(0px 1px 2px rgba(0, 0, 0, 0.3));\n",
              "      fill: #FFFFFF;\n",
              "    }\n",
              "  </style>\n",
              "\n",
              "    <script>\n",
              "      const buttonEl =\n",
              "        document.querySelector('#df-6c1b0494-b538-4f35-ada8-858504c4ffe3 button.colab-df-convert');\n",
              "      buttonEl.style.display =\n",
              "        google.colab.kernel.accessAllowed ? 'block' : 'none';\n",
              "\n",
              "      async function convertToInteractive(key) {\n",
              "        const element = document.querySelector('#df-6c1b0494-b538-4f35-ada8-858504c4ffe3');\n",
              "        const dataTable =\n",
              "          await google.colab.kernel.invokeFunction('convertToInteractive',\n",
              "                                                    [key], {});\n",
              "        if (!dataTable) return;\n",
              "\n",
              "        const docLinkHtml = 'Like what you see? Visit the ' +\n",
              "          '<a target=\"_blank\" href=https://colab.research.google.com/notebooks/data_table.ipynb>data table notebook</a>'\n",
              "          + ' to learn more about interactive tables.';\n",
              "        element.innerHTML = '';\n",
              "        dataTable['output_type'] = 'display_data';\n",
              "        await google.colab.output.renderOutput(dataTable, element);\n",
              "        const docLink = document.createElement('div');\n",
              "        docLink.innerHTML = docLinkHtml;\n",
              "        element.appendChild(docLink);\n",
              "      }\n",
              "    </script>\n",
              "  </div>\n",
              "\n",
              "\n",
              "<div id=\"df-8000b330-1189-4dd4-ae39-a126ecb14dcf\">\n",
              "  <button class=\"colab-df-quickchart\" onclick=\"quickchart('df-8000b330-1189-4dd4-ae39-a126ecb14dcf')\"\n",
              "            title=\"Suggest charts\"\n",
              "            style=\"display:none;\">\n",
              "\n",
              "<svg xmlns=\"http://www.w3.org/2000/svg\" height=\"24px\"viewBox=\"0 0 24 24\"\n",
              "     width=\"24px\">\n",
              "    <g>\n",
              "        <path d=\"M19 3H5c-1.1 0-2 .9-2 2v14c0 1.1.9 2 2 2h14c1.1 0 2-.9 2-2V5c0-1.1-.9-2-2-2zM9 17H7v-7h2v7zm4 0h-2V7h2v10zm4 0h-2v-4h2v4z\"/>\n",
              "    </g>\n",
              "</svg>\n",
              "  </button>\n",
              "\n",
              "<style>\n",
              "  .colab-df-quickchart {\n",
              "      --bg-color: #E8F0FE;\n",
              "      --fill-color: #1967D2;\n",
              "      --hover-bg-color: #E2EBFA;\n",
              "      --hover-fill-color: #174EA6;\n",
              "      --disabled-fill-color: #AAA;\n",
              "      --disabled-bg-color: #DDD;\n",
              "  }\n",
              "\n",
              "  [theme=dark] .colab-df-quickchart {\n",
              "      --bg-color: #3B4455;\n",
              "      --fill-color: #D2E3FC;\n",
              "      --hover-bg-color: #434B5C;\n",
              "      --hover-fill-color: #FFFFFF;\n",
              "      --disabled-bg-color: #3B4455;\n",
              "      --disabled-fill-color: #666;\n",
              "  }\n",
              "\n",
              "  .colab-df-quickchart {\n",
              "    background-color: var(--bg-color);\n",
              "    border: none;\n",
              "    border-radius: 50%;\n",
              "    cursor: pointer;\n",
              "    display: none;\n",
              "    fill: var(--fill-color);\n",
              "    height: 32px;\n",
              "    padding: 0;\n",
              "    width: 32px;\n",
              "  }\n",
              "\n",
              "  .colab-df-quickchart:hover {\n",
              "    background-color: var(--hover-bg-color);\n",
              "    box-shadow: 0 1px 2px rgba(60, 64, 67, 0.3), 0 1px 3px 1px rgba(60, 64, 67, 0.15);\n",
              "    fill: var(--button-hover-fill-color);\n",
              "  }\n",
              "\n",
              "  .colab-df-quickchart-complete:disabled,\n",
              "  .colab-df-quickchart-complete:disabled:hover {\n",
              "    background-color: var(--disabled-bg-color);\n",
              "    fill: var(--disabled-fill-color);\n",
              "    box-shadow: none;\n",
              "  }\n",
              "\n",
              "  .colab-df-spinner {\n",
              "    border: 2px solid var(--fill-color);\n",
              "    border-color: transparent;\n",
              "    border-bottom-color: var(--fill-color);\n",
              "    animation:\n",
              "      spin 1s steps(1) infinite;\n",
              "  }\n",
              "\n",
              "  @keyframes spin {\n",
              "    0% {\n",
              "      border-color: transparent;\n",
              "      border-bottom-color: var(--fill-color);\n",
              "      border-left-color: var(--fill-color);\n",
              "    }\n",
              "    20% {\n",
              "      border-color: transparent;\n",
              "      border-left-color: var(--fill-color);\n",
              "      border-top-color: var(--fill-color);\n",
              "    }\n",
              "    30% {\n",
              "      border-color: transparent;\n",
              "      border-left-color: var(--fill-color);\n",
              "      border-top-color: var(--fill-color);\n",
              "      border-right-color: var(--fill-color);\n",
              "    }\n",
              "    40% {\n",
              "      border-color: transparent;\n",
              "      border-right-color: var(--fill-color);\n",
              "      border-top-color: var(--fill-color);\n",
              "    }\n",
              "    60% {\n",
              "      border-color: transparent;\n",
              "      border-right-color: var(--fill-color);\n",
              "    }\n",
              "    80% {\n",
              "      border-color: transparent;\n",
              "      border-right-color: var(--fill-color);\n",
              "      border-bottom-color: var(--fill-color);\n",
              "    }\n",
              "    90% {\n",
              "      border-color: transparent;\n",
              "      border-bottom-color: var(--fill-color);\n",
              "    }\n",
              "  }\n",
              "</style>\n",
              "\n",
              "  <script>\n",
              "    async function quickchart(key) {\n",
              "      const quickchartButtonEl =\n",
              "        document.querySelector('#' + key + ' button');\n",
              "      quickchartButtonEl.disabled = true;  // To prevent multiple clicks.\n",
              "      quickchartButtonEl.classList.add('colab-df-spinner');\n",
              "      try {\n",
              "        const charts = await google.colab.kernel.invokeFunction(\n",
              "            'suggestCharts', [key], {});\n",
              "      } catch (error) {\n",
              "        console.error('Error during call to suggestCharts:', error);\n",
              "      }\n",
              "      quickchartButtonEl.classList.remove('colab-df-spinner');\n",
              "      quickchartButtonEl.classList.add('colab-df-quickchart-complete');\n",
              "    }\n",
              "    (() => {\n",
              "      let quickchartButtonEl =\n",
              "        document.querySelector('#df-8000b330-1189-4dd4-ae39-a126ecb14dcf button');\n",
              "      quickchartButtonEl.style.display =\n",
              "        google.colab.kernel.accessAllowed ? 'block' : 'none';\n",
              "    })();\n",
              "  </script>\n",
              "</div>\n",
              "    </div>\n",
              "  </div>\n"
            ]
          },
          "metadata": {},
          "execution_count": 27
        }
      ]
    },
    {
      "cell_type": "code",
      "source": [
        "# dataPath = os.path.join('../input/covid19-radiography-database/COVID-19_Radiography_Dataset', 'COVID', 'Viral Pneumonia', 'Normal', 'Lung_Opacity')\n",
        "# captions_df['image'] = captions_df['image'].apply(lambda x: os.path.join(dataPath, x))"
      ],
      "metadata": {
        "execution": {
          "iopub.status.busy": "2023-04-01T10:50:21.270051Z",
          "iopub.execute_input": "2023-04-01T10:50:21.270488Z",
          "iopub.status.idle": "2023-04-01T10:50:21.276071Z",
          "shell.execute_reply.started": "2023-04-01T10:50:21.270453Z",
          "shell.execute_reply": "2023-04-01T10:50:21.274884Z"
        },
        "trusted": true,
        "id": "eSEdUj2Pp-7o"
      },
      "execution_count": 28,
      "outputs": []
    },
    {
      "cell_type": "code",
      "source": [
        "import matplotlib.pyplot as plt\n",
        "import cv2"
      ],
      "metadata": {
        "execution": {
          "iopub.status.busy": "2023-04-01T10:50:21.277769Z",
          "iopub.execute_input": "2023-04-01T10:50:21.278458Z",
          "iopub.status.idle": "2023-04-01T10:50:21.451491Z",
          "shell.execute_reply.started": "2023-04-01T10:50:21.278420Z",
          "shell.execute_reply": "2023-04-01T10:50:21.450462Z"
        },
        "trusted": true,
        "id": "lKHoFq-2p-7o"
      },
      "execution_count": 29,
      "outputs": []
    },
    {
      "cell_type": "code",
      "source": [
        "idx = 42  # Replace with your desired index\n",
        "sample_row = captions_df.iloc[idx]"
      ],
      "metadata": {
        "execution": {
          "iopub.status.busy": "2023-04-01T10:50:21.453076Z",
          "iopub.execute_input": "2023-04-01T10:50:21.453467Z",
          "iopub.status.idle": "2023-04-01T10:50:21.458916Z",
          "shell.execute_reply.started": "2023-04-01T10:50:21.453429Z",
          "shell.execute_reply": "2023-04-01T10:50:21.457794Z"
        },
        "trusted": true,
        "id": "gQJL1ZFap-7o"
      },
      "execution_count": 30,
      "outputs": []
    },
    {
      "cell_type": "code",
      "source": [
        "image_path = sample_row['image']\n",
        "image = cv2.imread('/content/input/covid19-radiography-database/COVID-19_Radiography_Dataset/Lung_Opacity/images/Lung_Opacity-10.png')"
      ],
      "metadata": {
        "execution": {
          "iopub.status.busy": "2023-04-01T10:50:21.460550Z",
          "iopub.execute_input": "2023-04-01T10:50:21.461380Z",
          "iopub.status.idle": "2023-04-01T10:50:21.482858Z",
          "shell.execute_reply.started": "2023-04-01T10:50:21.461346Z",
          "shell.execute_reply": "2023-04-01T10:50:21.481762Z"
        },
        "trusted": true,
        "id": "W-VPBOfJp-7p"
      },
      "execution_count": 31,
      "outputs": []
    },
    {
      "cell_type": "code",
      "source": [
        "plt.imshow(cv2.cvtColor(image, cv2.COLOR_BGR2RGB))\n",
        "plt.title(sample_row['caption'])\n",
        "plt.axis('off')\n",
        "plt.show()"
      ],
      "metadata": {
        "execution": {
          "iopub.status.busy": "2023-04-01T10:50:21.484148Z",
          "iopub.execute_input": "2023-04-01T10:50:21.485118Z",
          "iopub.status.idle": "2023-04-01T10:50:21.680235Z",
          "shell.execute_reply.started": "2023-04-01T10:50:21.485080Z",
          "shell.execute_reply": "2023-04-01T10:50:21.678872Z"
        },
        "trusted": true,
        "id": "zdM93cuUp-7p",
        "outputId": "f0eb7526-1fb7-47a4-ba8f-5310a0693e0c",
        "colab": {
          "base_uri": "https://localhost:8080/",
          "height": 428
        }
      },
      "execution_count": 32,
      "outputs": [
        {
          "output_type": "display_data",
          "data": {
            "text/plain": [
              "<Figure size 640x480 with 1 Axes>"
            ],
            "image/png": "[encoded data removed]"
          },
          "metadata": {}
        }
      ]
    },
    {
      "cell_type": "code",
      "source": [
        "MAX_LENGTH = 40\n",
        "VOCABULARY_SIZE = 150\n",
        "BATCH_SIZE = 64\n",
        "BUFFER_SIZE = 1000\n",
        "EMBEDDING_DIM = 512\n",
        "UNITS = 512\n",
        "EPOCHS = 15\n",
        "steps_per_epoch= 100"
      ],
      "metadata": {
        "execution": {
          "iopub.status.busy": "2023-04-01T10:50:21.681486Z",
          "iopub.execute_input": "2023-04-01T10:50:21.682128Z",
          "iopub.status.idle": "2023-04-01T10:50:21.688562Z",
          "shell.execute_reply.started": "2023-04-01T10:50:21.682080Z",
          "shell.execute_reply": "2023-04-01T10:50:21.687493Z"
        },
        "trusted": true,
        "id": "Np7J8zMIp-7q"
      },
      "execution_count": 33,
      "outputs": []
    },
    {
      "cell_type": "code",
      "source": [
        "tokenizer = tf.keras.layers.TextVectorization(\n",
        "    max_tokens=VOCABULARY_SIZE,\n",
        "    standardize=None,\n",
        "    output_sequence_length=MAX_LENGTH)\n",
        "\n",
        "tokenizer.adapt(captions_df['caption'])"
      ],
      "metadata": {
        "execution": {
          "iopub.status.busy": "2023-04-01T10:50:21.689753Z",
          "iopub.execute_input": "2023-04-01T10:50:21.690753Z",
          "iopub.status.idle": "2023-04-01T10:50:26.025584Z",
          "shell.execute_reply.started": "2023-04-01T10:50:21.690713Z",
          "shell.execute_reply": "2023-04-01T10:50:26.024465Z"
        },
        "trusted": true,
        "id": "vKxV8omHp-7q"
      },
      "execution_count": 34,
      "outputs": []
    },
    {
      "cell_type": "code",
      "source": [
        "tokenizer.vocabulary_size()"
      ],
      "metadata": {
        "execution": {
          "iopub.status.busy": "2023-04-01T10:50:26.027541Z",
          "iopub.execute_input": "2023-04-01T10:50:26.027942Z",
          "iopub.status.idle": "2023-04-01T10:50:26.035723Z",
          "shell.execute_reply.started": "2023-04-01T10:50:26.027903Z",
          "shell.execute_reply": "2023-04-01T10:50:26.034557Z"
        },
        "trusted": true,
        "id": "8bqZ4xD_p-7q",
        "outputId": "05300adb-edac-4aeb-f012-92fc92adab2e",
        "colab": {
          "base_uri": "https://localhost:8080/"
        }
      },
      "execution_count": 35,
      "outputs": [
        {
          "output_type": "execute_result",
          "data": {
            "text/plain": [
              "95"
            ]
          },
          "metadata": {},
          "execution_count": 35
        }
      ]
    },
    {
      "cell_type": "code",
      "source": [
        "import pickle\n",
        "\n",
        "pickle.dump(tokenizer.get_vocabulary(), open('vocab_CRD.file', 'wb'))"
      ],
      "metadata": {
        "execution": {
          "iopub.status.busy": "2023-04-01T10:50:26.037846Z",
          "iopub.execute_input": "2023-04-01T10:50:26.038622Z",
          "iopub.status.idle": "2023-04-01T10:50:26.048595Z",
          "shell.execute_reply.started": "2023-04-01T10:50:26.038580Z",
          "shell.execute_reply": "2023-04-01T10:50:26.047629Z"
        },
        "trusted": true,
        "id": "LDeMXsy4p-7q"
      },
      "execution_count": 36,
      "outputs": []
    },
    {
      "cell_type": "code",
      "source": [
        "word2idx = tf.keras.layers.StringLookup(\n",
        "    mask_token=\"\",\n",
        "    vocabulary=tokenizer.get_vocabulary())\n",
        "\n",
        "idx2word = tf.keras.layers.StringLookup(\n",
        "    mask_token=\"\",\n",
        "    vocabulary=tokenizer.get_vocabulary(),\n",
        "    invert=True)"
      ],
      "metadata": {
        "execution": {
          "iopub.status.busy": "2023-04-01T10:50:26.050321Z",
          "iopub.execute_input": "2023-04-01T10:50:26.050701Z",
          "iopub.status.idle": "2023-04-01T10:50:26.074211Z",
          "shell.execute_reply.started": "2023-04-01T10:50:26.050658Z",
          "shell.execute_reply": "2023-04-01T10:50:26.073257Z"
        },
        "trusted": true,
        "id": "MHQ96xDJp-7q"
      },
      "execution_count": 37,
      "outputs": []
    },
    {
      "cell_type": "code",
      "source": [
        "img_to_cap_vector = collections.defaultdict(list)\n",
        "for img, cap in zip(captions_df['image'], captions_df['caption']):\n",
        "    img_to_cap_vector[img].append(cap)\n",
        "\n",
        "img_keys = list(img_to_cap_vector.keys())\n",
        "random.shuffle(img_keys)\n",
        "\n",
        "slice_index = int(len(img_keys)*0.8)\n",
        "img_name_train_keys, img_name_val_keys = (img_keys[:slice_index],\n",
        "                                          img_keys[slice_index:])\n",
        "\n",
        "train_imgs = []\n",
        "train_captions = []\n",
        "for imgt in img_name_train_keys:\n",
        "    capt_len = len(img_to_cap_vector[imgt])\n",
        "    train_imgs.extend([imgt] * capt_len)\n",
        "    train_captions.extend(img_to_cap_vector[imgt])\n",
        "\n",
        "val_imgs = []\n",
        "val_captions = []\n",
        "for imgv in img_name_val_keys:\n",
        "    capv_len = len(img_to_cap_vector[imgv])\n",
        "    val_imgs.extend([imgv] * capv_len)\n",
        "    val_captions.extend(img_to_cap_vector[imgv])"
      ],
      "metadata": {
        "execution": {
          "iopub.status.busy": "2023-04-01T10:50:26.075506Z",
          "iopub.execute_input": "2023-04-01T10:50:26.075904Z",
          "iopub.status.idle": "2023-04-01T10:50:26.116609Z",
          "shell.execute_reply.started": "2023-04-01T10:50:26.075863Z",
          "shell.execute_reply": "2023-04-01T10:50:26.115535Z"
        },
        "trusted": true,
        "id": "GdtOKnhLp-7r"
      },
      "execution_count": 38,
      "outputs": []
    },
    {
      "cell_type": "code",
      "source": [
        "len(train_imgs), len(train_captions), len(val_imgs), len(val_captions)"
      ],
      "metadata": {
        "execution": {
          "iopub.status.busy": "2023-04-01T10:50:26.118590Z",
          "iopub.execute_input": "2023-04-01T10:50:26.119510Z",
          "iopub.status.idle": "2023-04-01T10:50:26.130333Z",
          "shell.execute_reply.started": "2023-04-01T10:50:26.119359Z",
          "shell.execute_reply": "2023-04-01T10:50:26.129199Z"
        },
        "trusted": true,
        "id": "DLRvXK1cp-7r",
        "outputId": "308eeb6f-2384-4261-ab12-91e91bd17e4a",
        "colab": {
          "base_uri": "https://localhost:8080/"
        }
      },
      "execution_count": 39,
      "outputs": [
        {
          "output_type": "execute_result",
          "data": {
            "text/plain": [
              "(9600, 9600, 2400, 2400)"
            ]
          },
          "metadata": {},
          "execution_count": 39
        }
      ]
    },
    {
      "cell_type": "code",
      "source": [
        "def load_data(img_path, caption):\n",
        "    img = tf.io.read_file(img_path)\n",
        "    img = tf.io.decode_jpeg(img, channels=3)\n",
        "    img = tf.keras.layers.Resizing(299, 299)(img)\n",
        "    img = tf.keras.applications.efficientnet.preprocess_input(img)\n",
        "    caption = tokenizer(caption)\n",
        "    return img, caption"
      ],
      "metadata": {
        "execution": {
          "iopub.status.busy": "2023-04-01T10:50:26.137414Z",
          "iopub.execute_input": "2023-04-01T10:50:26.137707Z",
          "iopub.status.idle": "2023-04-01T10:50:26.143588Z",
          "shell.execute_reply.started": "2023-04-01T10:50:26.137681Z",
          "shell.execute_reply": "2023-04-01T10:50:26.142351Z"
        },
        "trusted": true,
        "id": "CKeATtyAp-7r"
      },
      "execution_count": 40,
      "outputs": []
    },
    {
      "cell_type": "code",
      "source": [
        "train_dataset = tf.data.Dataset.from_tensor_slices(\n",
        "    (train_imgs, train_captions))\n",
        "\n",
        "train_dataset = train_dataset.map(\n",
        "    load_data, num_parallel_calls=tf.data.AUTOTUNE\n",
        "    ).shuffle(BUFFER_SIZE).batch(BATCH_SIZE)\n",
        "\n",
        "val_dataset = tf.data.Dataset.from_tensor_slices(\n",
        "    (val_imgs, val_captions))\n",
        "\n",
        "val_dataset = val_dataset.map(\n",
        "    load_data, num_parallel_calls=tf.data.AUTOTUNE\n",
        "    ).shuffle(BUFFER_SIZE).batch(BATCH_SIZE)"
      ],
      "metadata": {
        "execution": {
          "iopub.status.busy": "2023-04-01T10:50:26.145171Z",
          "iopub.execute_input": "2023-04-01T10:50:26.145838Z",
          "iopub.status.idle": "2023-04-01T10:50:26.464564Z",
          "shell.execute_reply.started": "2023-04-01T10:50:26.145777Z",
          "shell.execute_reply": "2023-04-01T10:50:26.463529Z"
        },
        "trusted": true,
        "id": "b8AKWy7Zp-7r"
      },
      "execution_count": 41,
      "outputs": []
    },
    {
      "cell_type": "code",
      "source": [
        "image_augmentation = tf.keras.Sequential(\n",
        "    [\n",
        "        tf.keras.layers.RandomFlip(\"horizontal\"),\n",
        "        tf.keras.layers.RandomRotation(0.2),\n",
        "        tf.keras.layers.RandomContrast(0.3),\n",
        "    ]\n",
        ")"
      ],
      "metadata": {
        "execution": {
          "iopub.status.busy": "2023-04-01T10:50:26.466195Z",
          "iopub.execute_input": "2023-04-01T10:50:26.466543Z",
          "iopub.status.idle": "2023-04-01T10:50:26.481166Z",
          "shell.execute_reply.started": "2023-04-01T10:50:26.466506Z",
          "shell.execute_reply": "2023-04-01T10:50:26.480010Z"
        },
        "trusted": true,
        "id": "LjkE9fjfp-7s"
      },
      "execution_count": 42,
      "outputs": []
    },
    {
      "cell_type": "code",
      "source": [
        "from tensorflow.keras.optimizers import SGD\n",
        "\n",
        "sgd = SGD(learning_rate=0.01, momentum=0.9)"
      ],
      "metadata": {
        "execution": {
          "iopub.status.busy": "2023-04-01T10:50:26.482927Z",
          "iopub.execute_input": "2023-04-01T10:50:26.483427Z",
          "iopub.status.idle": "2023-04-01T10:50:26.494769Z",
          "shell.execute_reply.started": "2023-04-01T10:50:26.483392Z",
          "shell.execute_reply": "2023-04-01T10:50:26.493755Z"
        },
        "trusted": true,
        "id": "xVGD3pK6p-7s"
      },
      "execution_count": 43,
      "outputs": []
    },
    {
      "cell_type": "code",
      "source": [
        "def CNN_Encoder():\n",
        "    # Load pre-trained Xception model\n",
        "    base_model = tf.keras.applications.efficientnet.EfficientNetB7(\n",
        "        include_top=False,\n",
        "        weights='imagenet',\n",
        "        pooling=max,\n",
        "        classifier_activation='softmax'\n",
        "    )\n",
        "\n",
        "    # Fine-tune the pre-trained model on your dataset\n",
        "    for layer in base_model.layers:\n",
        "        layer.trainable = True\n",
        "\n",
        "    # Add batch normalization layers\n",
        "    x = base_model.output\n",
        "    x = tf.keras.layers.BatchNormalization()(x)\n",
        "\n",
        "    # Add dropout layers\n",
        "    x = tf.keras.layers.Dropout(0.5)(x)\n",
        "\n",
        "    # Reshape output\n",
        "    x = tf.keras.layers.Reshape((-1, x.shape[-1]))(x)\n",
        "\n",
        "    # Define model\n",
        "    cnn_model = tf.keras.models.Model(base_model.input, x)\n",
        "\n",
        "    return cnn_model"
      ],
      "metadata": {
        "execution": {
          "iopub.status.busy": "2023-04-01T10:50:26.496499Z",
          "iopub.execute_input": "2023-04-01T10:50:26.496927Z",
          "iopub.status.idle": "2023-04-01T10:50:26.505347Z",
          "shell.execute_reply.started": "2023-04-01T10:50:26.496883Z",
          "shell.execute_reply": "2023-04-01T10:50:26.504246Z"
        },
        "trusted": true,
        "id": "mNwLgVn_p-7s"
      },
      "execution_count": 44,
      "outputs": []
    },
    {
      "cell_type": "code",
      "source": [
        "class TransformerEncoderLayer(tf.keras.layers.Layer):\n",
        "\n",
        "    def __init__(self, embed_dim, num_heads):\n",
        "        super().__init__()\n",
        "        self.layer_norm_1 = tf.keras.layers.LayerNormalization()\n",
        "        self.layer_norm_2 = tf.keras.layers.LayerNormalization()\n",
        "        self.attention = tf.keras.layers.MultiHeadAttention(\n",
        "            num_heads=num_heads, key_dim=embed_dim)\n",
        "        self.dense = tf.keras.layers.Dense(embed_dim, activation=\"relu\")\n",
        "\n",
        "\n",
        "    def call(self, x, training):\n",
        "        x = self.layer_norm_1(x)\n",
        "        x = self.dense(x)\n",
        "\n",
        "        attn_output = self.attention(\n",
        "            query=x,\n",
        "            value=x,\n",
        "            key=x,\n",
        "            attention_mask=None,\n",
        "            training=training\n",
        "        )\n",
        "\n",
        "        x = self.layer_norm_2(x + attn_output)\n",
        "        return x"
      ],
      "metadata": {
        "execution": {
          "iopub.status.busy": "2023-04-01T10:50:26.507157Z",
          "iopub.execute_input": "2023-04-01T10:50:26.507538Z",
          "iopub.status.idle": "2023-04-01T10:50:26.516918Z",
          "shell.execute_reply.started": "2023-04-01T10:50:26.507504Z",
          "shell.execute_reply": "2023-04-01T10:50:26.516209Z"
        },
        "trusted": true,
        "id": "S6jxnIXWp-7s"
      },
      "execution_count": 45,
      "outputs": []
    },
    {
      "cell_type": "code",
      "source": [
        "class Embeddings(tf.keras.layers.Layer):\n",
        "\n",
        "    def __init__(self, vocab_size, embed_dim, max_len):\n",
        "        super().__init__()\n",
        "        self.token_embeddings = tf.keras.layers.Embedding(\n",
        "            vocab_size, embed_dim)\n",
        "        self.position_embeddings = tf.keras.layers.Embedding(\n",
        "            max_len, embed_dim, input_shape=(None, max_len))\n",
        "\n",
        "\n",
        "    def call(self, input_ids):\n",
        "        length = tf.shape(input_ids)[-1]\n",
        "        position_ids = tf.range(start=0, limit=length, delta=1)\n",
        "        position_ids = tf.expand_dims(position_ids, axis=0)\n",
        "\n",
        "        token_embeddings = self.token_embeddings(input_ids)\n",
        "        position_embeddings = self.position_embeddings(position_ids)\n",
        "\n",
        "        return token_embeddings + position_embeddings"
      ],
      "metadata": {
        "execution": {
          "iopub.status.busy": "2023-04-01T10:50:26.518221Z",
          "iopub.execute_input": "2023-04-01T10:50:26.519318Z",
          "iopub.status.idle": "2023-04-01T10:50:26.529769Z",
          "shell.execute_reply.started": "2023-04-01T10:50:26.519291Z",
          "shell.execute_reply": "2023-04-01T10:50:26.528807Z"
        },
        "trusted": true,
        "id": "NUyGWXlCp-7t"
      },
      "execution_count": 46,
      "outputs": []
    },
    {
      "cell_type": "code",
      "source": [
        "class TransformerDecoderLayer(tf.keras.layers.Layer):\n",
        "\n",
        "    def __init__(self, embed_dim, units, num_heads):\n",
        "        super().__init__()\n",
        "        self.embedding = Embeddings(\n",
        "            tokenizer.vocabulary_size(), embed_dim, MAX_LENGTH)\n",
        "\n",
        "        self.attention_1 = tf.keras.layers.MultiHeadAttention(\n",
        "            num_heads=num_heads, key_dim=embed_dim, dropout=0.1\n",
        "        )\n",
        "        self.attention_2 = tf.keras.layers.MultiHeadAttention(\n",
        "            num_heads=num_heads, key_dim=embed_dim, dropout=0.1\n",
        "        )\n",
        "\n",
        "        self.layernorm_1 = tf.keras.layers.LayerNormalization()\n",
        "        self.layernorm_2 = tf.keras.layers.LayerNormalization()\n",
        "        self.layernorm_3 = tf.keras.layers.LayerNormalization()\n",
        "\n",
        "        self.ffn_layer_1 = tf.keras.layers.Dense(units, activation=\"relu\")\n",
        "        self.ffn_layer_2 = tf.keras.layers.Dense(embed_dim)\n",
        "\n",
        "        self.out = tf.keras.layers.Dense(tokenizer.vocabulary_size(), activation=\"softmax\")\n",
        "\n",
        "        self.dropout_1 = tf.keras.layers.Dropout(0.3)\n",
        "        self.dropout_2 = tf.keras.layers.Dropout(0.5)\n",
        "\n",
        "\n",
        "    def call(self, input_ids, encoder_output, training, mask=None):\n",
        "        embeddings = self.embedding(input_ids)\n",
        "\n",
        "        combined_mask = None\n",
        "        padding_mask = None\n",
        "\n",
        "        if mask is not None:\n",
        "            causal_mask = self.get_causal_attention_mask(embeddings)\n",
        "            padding_mask = tf.cast(mask[:, :, tf.newaxis], dtype=tf.int32)\n",
        "            combined_mask = tf.cast(mask[:, tf.newaxis, :], dtype=tf.int32)\n",
        "            combined_mask = tf.minimum(combined_mask, causal_mask)\n",
        "\n",
        "        attn_output_1 = self.attention_1(\n",
        "            query=embeddings,\n",
        "            value=embeddings,\n",
        "            key=embeddings,\n",
        "            attention_mask=combined_mask,\n",
        "            training=training\n",
        "        )\n",
        "\n",
        "        out_1 = self.layernorm_1(embeddings + attn_output_1)\n",
        "\n",
        "        attn_output_2 = self.attention_2(\n",
        "            query=out_1,\n",
        "            value=encoder_output,\n",
        "            key=encoder_output,\n",
        "            attention_mask=padding_mask,\n",
        "            training=training\n",
        "        )\n",
        "\n",
        "        out_2 = self.layernorm_2(out_1 + attn_output_2)\n",
        "\n",
        "        ffn_out = self.ffn_layer_1(out_2)\n",
        "        ffn_out = self.dropout_1(ffn_out, training=training)\n",
        "        ffn_out = self.ffn_layer_2(ffn_out)\n",
        "\n",
        "        ffn_out = self.layernorm_3(ffn_out + out_2)\n",
        "        ffn_out = self.dropout_2(ffn_out, training=training)\n",
        "        preds = self.out(ffn_out)\n",
        "        return preds\n",
        "\n",
        "\n",
        "    def get_causal_attention_mask(self, inputs):\n",
        "        input_shape = tf.shape(inputs)\n",
        "        batch_size, sequence_length = input_shape[0], input_shape[1]\n",
        "        i = tf.range(sequence_length)[:, tf.newaxis]\n",
        "        j = tf.range(sequence_length)\n",
        "        mask = tf.cast(i >= j, dtype=\"int32\")\n",
        "        mask = tf.reshape(mask, (1, input_shape[1], input_shape[1]))\n",
        "        mult = tf.concat(\n",
        "            [tf.expand_dims(batch_size, -1), tf.constant([1, 1], dtype=tf.int32)],\n",
        "            axis=0\n",
        "        )\n",
        "        return tf.tile(mask, mult)"
      ],
      "metadata": {
        "execution": {
          "iopub.status.busy": "2023-04-01T10:50:26.532158Z",
          "iopub.execute_input": "2023-04-01T10:50:26.532928Z",
          "iopub.status.idle": "2023-04-01T10:50:26.549194Z",
          "shell.execute_reply.started": "2023-04-01T10:50:26.532893Z",
          "shell.execute_reply": "2023-04-01T10:50:26.548283Z"
        },
        "trusted": true,
        "id": "Yr-YsR4pp-7t"
      },
      "execution_count": 47,
      "outputs": []
    },
    {
      "cell_type": "code",
      "source": [
        "class ImageCaptioningModel(tf.keras.Model):\n",
        "\n",
        "    def __init__(self, cnn_model, encoder, decoder, image_aug=None):\n",
        "        super().__init__()\n",
        "        self.cnn_model = cnn_model\n",
        "        self.encoder = encoder\n",
        "        self.decoder = decoder\n",
        "        self.image_aug = image_aug\n",
        "        self.loss_tracker = tf.keras.metrics.Mean(name=\"loss\")\n",
        "        self.acc_tracker = tf.keras.metrics.Mean(name=\"accuracy\")\n",
        "\n",
        "\n",
        "#     def build(self, input_shape=None):\n",
        "#         if input_shape is None:\n",
        "#             input_shape = self.input_shape\n",
        "\n",
        "#         self.cnn_model.build(input_shape)\n",
        "#         self.encoder.build((None, self.cnn_model.output_shape[1], self.cnn_model.output_shape[2], self.cnn_model.output_shape[3]))\n",
        "#         self.decoder.build((None, None, self.encoder.output_shape[-1]))\n",
        "#         super().build(input_shape)\n",
        "\n",
        "    def calculate_loss(self, y_true, y_pred, mask):\n",
        "        loss = self.loss(y_true, y_pred)\n",
        "        mask = tf.cast(mask, dtype=loss.dtype)\n",
        "        loss *= mask\n",
        "        return tf.reduce_sum(loss) / tf.reduce_sum(mask)\n",
        "\n",
        "\n",
        "    def calculate_accuracy(self, y_true, y_pred, mask):\n",
        "        accuracy = tf.equal(y_true, tf.argmax(y_pred, axis=2))\n",
        "        accuracy = tf.math.logical_and(mask, accuracy)\n",
        "        accuracy = tf.cast(accuracy, dtype=tf.float32)\n",
        "        mask = tf.cast(mask, dtype=tf.float32)\n",
        "        return tf.reduce_sum(accuracy) / tf.reduce_sum(mask)\n",
        "\n",
        "\n",
        "    def compute_loss_and_acc(self, img_embed, captions, training=True):\n",
        "        encoder_output = self.encoder(img_embed, training=True)\n",
        "        y_input = captions[:, :-1]\n",
        "        y_true = captions[:, 1:]\n",
        "        mask = (y_true != 0)\n",
        "        y_pred = self.decoder(\n",
        "            y_input, encoder_output, training=True, mask=mask\n",
        "        )\n",
        "        loss = self.calculate_loss(y_true, y_pred, mask)\n",
        "        acc = self.calculate_accuracy(y_true, y_pred, mask)\n",
        "        return loss, acc\n",
        "\n",
        "\n",
        "    def train_step(self, batch):\n",
        "        imgs, captions = batch\n",
        "\n",
        "        if self.image_aug:\n",
        "            imgs = self.image_aug(imgs)\n",
        "\n",
        "        img_embed = self.cnn_model(imgs)\n",
        "\n",
        "        with tf.GradientTape() as tape:\n",
        "            loss, acc = self.compute_loss_and_acc(\n",
        "                img_embed, captions\n",
        "            )\n",
        "\n",
        "        train_vars = (\n",
        "            self.encoder.trainable_variables + self.decoder.trainable_variables\n",
        "        )\n",
        "        grads = tape.gradient(loss, train_vars)\n",
        "        self.optimizer.apply_gradients(zip(grads, train_vars))\n",
        "        self.loss_tracker.update_state(loss)\n",
        "        self.acc_tracker.update_state(acc)\n",
        "\n",
        "        return {\"loss\": self.loss_tracker.result(), \"acc\": self.acc_tracker.result()}\n",
        "\n",
        "\n",
        "    def test_step(self, batch):\n",
        "        imgs, captions = batch\n",
        "\n",
        "        img_embed = self.cnn_model(imgs)\n",
        "\n",
        "        loss, acc = self.compute_loss_and_acc(\n",
        "            img_embed, captions, training=False\n",
        "        )\n",
        "\n",
        "        self.loss_tracker.update_state(loss)\n",
        "        self.acc_tracker.update_state(acc)\n",
        "\n",
        "        return {\"loss\": self.loss_tracker.result(), \"acc\": self.acc_tracker.result()}\n",
        "\n",
        "    @property\n",
        "    def metrics(self):\n",
        "        return [self.loss_tracker, self.acc_tracker]"
      ],
      "metadata": {
        "execution": {
          "iopub.status.busy": "2023-04-01T10:50:26.552958Z",
          "iopub.execute_input": "2023-04-01T10:50:26.553523Z",
          "iopub.status.idle": "2023-04-01T10:50:26.569687Z",
          "shell.execute_reply.started": "2023-04-01T10:50:26.553486Z",
          "shell.execute_reply": "2023-04-01T10:50:26.568673Z"
        },
        "trusted": true,
        "id": "lCuFSq3mp-7t"
      },
      "execution_count": 48,
      "outputs": []
    },
    {
      "cell_type": "code",
      "source": [
        "encoder = TransformerEncoderLayer(EMBEDDING_DIM, 1)\n",
        "decoder = TransformerDecoderLayer(EMBEDDING_DIM, UNITS, 8)\n",
        "\n",
        "cnn_model = CNN_Encoder()\n",
        "caption_model = ImageCaptioningModel(\n",
        "    cnn_model=cnn_model, encoder=encoder, decoder=decoder, image_aug=image_augmentation,\n",
        ")"
      ],
      "metadata": {
        "execution": {
          "iopub.status.busy": "2023-04-01T10:50:26.571124Z",
          "iopub.execute_input": "2023-04-01T10:50:26.571774Z",
          "iopub.status.idle": "2023-04-01T10:50:36.772250Z",
          "shell.execute_reply.started": "2023-04-01T10:50:26.571735Z",
          "shell.execute_reply": "2023-04-01T10:50:36.771234Z"
        },
        "trusted": true,
        "id": "sIPSGT7Wp-7u",
        "outputId": "878d2fed-f90e-4466-a6fe-5970923cade2",
        "colab": {
          "base_uri": "https://localhost:8080/"
        }
      },
      "execution_count": 49,
      "outputs": [
        {
          "output_type": "stream",
          "name": "stdout",
          "text": [
            "Downloading data from https://storage.googleapis.com/keras-applications/efficientnetb7_notop.h5\n",
            "258076736/258076736 [==============================] - 12s 0us/step\n"
          ]
        }
      ]
    },
    {
      "cell_type": "code",
      "source": [
        "cross_entropy = tf.keras.losses.SparseCategoricalCrossentropy(\n",
        "    from_logits=False, reduction=\"none\"\n",
        ")\n",
        "\n",
        "early_stopping = tf.keras.callbacks.EarlyStopping(patience=3, restore_best_weights=True)\n",
        "\n",
        "caption_model.compile(\n",
        "    optimizer=tf.keras.optimizers.Adam(),\n",
        "    loss=cross_entropy\n",
        ")"
      ],
      "metadata": {
        "execution": {
          "iopub.status.busy": "2023-04-01T10:50:36.773919Z",
          "iopub.execute_input": "2023-04-01T10:50:36.774280Z",
          "iopub.status.idle": "2023-04-01T10:50:36.796742Z",
          "shell.execute_reply.started": "2023-04-01T10:50:36.774245Z",
          "shell.execute_reply": "2023-04-01T10:50:36.795781Z"
        },
        "trusted": true,
        "id": "EVTJsjkAp-7u"
      },
      "execution_count": 50,
      "outputs": []
    },
    {
      "cell_type": "code",
      "source": [
        "history = caption_model.fit(\n",
        "    train_dataset,\n",
        "    epochs=EPOCHS,\n",
        "    validation_data=val_dataset,\n",
        "    callbacks=[early_stopping]\n",
        ")"
      ],
      "metadata": {
        "execution": {
          "iopub.status.busy": "2023-04-01T10:50:36.798431Z",
          "iopub.execute_input": "2023-04-01T10:50:36.798904Z",
          "iopub.status.idle": "2023-04-01T11:51:51.446920Z",
          "shell.execute_reply.started": "2023-04-01T10:50:36.798860Z",
          "shell.execute_reply": "2023-04-01T11:51:51.445866Z"
        },
        "trusted": true,
        "id": "oTeu1o1vp-7v",
        "outputId": "8ec84df5-b4de-46f2-df7e-ab63b3555970",
        "colab": {
          "base_uri": "https://localhost:8080/"
        }
      },
      "execution_count": 51,
      "outputs": [
        {
          "output_type": "stream",
          "name": "stdout",
          "text": [
            "Epoch 1/15\n",
            "150/150 [==============================] - 340s 2s/step - loss: 1.0687 - acc: 0.5691 - val_loss: 0.4905 - val_acc: 0.8428\n",
            "Epoch 2/15\n",
            "150/150 [==============================] - 303s 2s/step - loss: 0.4554 - acc: 0.8427 - val_loss: 0.4473 - val_acc: 0.8510\n",
            "Epoch 3/15\n",
            "150/150 [==============================] - 274s 2s/step - loss: 0.4160 - acc: 0.8522 - val_loss: 0.3958 - val_acc: 0.8514\n",
            "Epoch 4/15\n",
            "150/150 [==============================] - 302s 2s/step - loss: 0.3952 - acc: 0.8547 - val_loss: 0.3980 - val_acc: 0.8495\n",
            "Epoch 5/15\n",
            "150/150 [==============================] - 302s 2s/step - loss: 0.3886 - acc: 0.8562 - val_loss: 0.3847 - val_acc: 0.8579\n",
            "Epoch 6/15\n",
            "150/150 [==============================] - 272s 2s/step - loss: 0.3814 - acc: 0.8600 - val_loss: 0.3991 - val_acc: 0.8526\n",
            "Epoch 7/15\n",
            "150/150 [==============================] - 303s 2s/step - loss: 0.3866 - acc: 0.8561 - val_loss: 0.3788 - val_acc: 0.8552\n",
            "Epoch 8/15\n",
            "150/150 [==============================] - 273s 2s/step - loss: 0.3745 - acc: 0.8582 - val_loss: 0.3704 - val_acc: 0.8594\n",
            "Epoch 9/15\n",
            "150/150 [==============================] - 303s 2s/step - loss: 0.3692 - acc: 0.8599 - val_loss: 0.3699 - val_acc: 0.8595\n",
            "Epoch 10/15\n",
            "150/150 [==============================] - 274s 2s/step - loss: 0.3644 - acc: 0.8610 - val_loss: 0.3667 - val_acc: 0.8600\n",
            "Epoch 11/15\n",
            "150/150 [==============================] - 302s 2s/step - loss: 0.3655 - acc: 0.8601 - val_loss: 0.3650 - val_acc: 0.8605\n",
            "Epoch 12/15\n",
            "150/150 [==============================] - 274s 2s/step - loss: 0.3598 - acc: 0.8629 - val_loss: 0.3625 - val_acc: 0.8592\n",
            "Epoch 13/15\n",
            "150/150 [==============================] - 302s 2s/step - loss: 0.3620 - acc: 0.8617 - val_loss: 0.3671 - val_acc: 0.8606\n",
            "Epoch 14/15\n",
            "150/150 [==============================] - 273s 2s/step - loss: 0.3607 - acc: 0.8635 - val_loss: 0.3638 - val_acc: 0.8603\n",
            "Epoch 15/15\n",
            "150/150 [==============================] - 302s 2s/step - loss: 0.3588 - acc: 0.8643 - val_loss: 0.3581 - val_acc: 0.8600\n"
          ]
        }
      ]
    },
    {
      "cell_type": "code",
      "source": [
        "plt.plot(history.history['loss'], label='train_loss')\n",
        "plt.plot(history.history['val_loss'], label='validation loss')\n",
        "plt.legend()\n",
        "plt.show()"
      ],
      "metadata": {
        "execution": {
          "iopub.status.busy": "2023-04-01T11:51:51.448280Z",
          "iopub.execute_input": "2023-04-01T11:51:51.448966Z",
          "iopub.status.idle": "2023-04-01T11:51:51.664690Z",
          "shell.execute_reply.started": "2023-04-01T11:51:51.448935Z",
          "shell.execute_reply": "2023-04-01T11:51:51.663785Z"
        },
        "trusted": true,
        "id": "wSkmP3Kmp-7v",
        "colab": {
          "base_uri": "https://localhost:8080/",
          "height": 433
        },
        "outputId": "6f386b75-b1af-418e-a342-9df07d845a8c"
      },
      "execution_count": 52,
      "outputs": [
        {
          "output_type": "display_data",
          "data": {
            "text/plain": [
              "<Figure size 640x480 with 1 Axes>"
            ],
            "image/png": "[encoded data removed]"
          },
          "metadata": {}
        }
      ]
    },
    {
      "cell_type": "code",
      "source": [
        "def load_image_from_path(img_path):\n",
        "    img = tf.io.read_file(img_path)\n",
        "    img = tf.io.decode_jpeg(img, channels=3)\n",
        "    img = tf.keras.layers.Resizing(299, 299)(img)\n",
        "    img = tf.keras.applications.efficientnet.preprocess_input(img)\n",
        "    return img\n",
        "\n",
        "\n",
        "def generate_caption(img_path, add_noise=False):\n",
        "    img = load_image_from_path(img_path)\n",
        "\n",
        "    if add_noise:\n",
        "        noise = tf.random.normal(img.shape)*0.1\n",
        "        img = img + noise\n",
        "        img = (img - tf.reduce_min(img))/(tf.reduce_max(img) - tf.reduce_min(img))\n",
        "\n",
        "    img = tf.expand_dims(img, axis=0)\n",
        "    img_embed = caption_model.cnn_model(img)\n",
        "    img_encoded = caption_model.encoder(img_embed, training=False)\n",
        "\n",
        "    y_inp = '[start]'\n",
        "    for i in range(MAX_LENGTH-1):\n",
        "        tokenized = tokenizer([y_inp])[:, :-1]\n",
        "        mask = tf.cast(tokenized != 0, tf.int32)\n",
        "        pred = caption_model.decoder(\n",
        "            tokenized, img_encoded, training=False, mask=mask)\n",
        "\n",
        "        pred_idx = np.argmax(pred[0, i, :])\n",
        "        pred_idx = tf.convert_to_tensor(pred_idx)\n",
        "        pred_word = idx2word(pred_idx).numpy().decode('utf-8')\n",
        "        if pred_word == '[end]':\n",
        "            break\n",
        "\n",
        "        y_inp += ' ' + pred_word\n",
        "\n",
        "    y_inp = y_inp.replace('[start] ', '')\n",
        "    return y_inp"
      ],
      "metadata": {
        "execution": {
          "iopub.status.busy": "2023-04-01T11:51:51.666040Z",
          "iopub.execute_input": "2023-04-01T11:51:51.666408Z",
          "iopub.status.idle": "2023-04-01T11:51:51.678688Z",
          "shell.execute_reply.started": "2023-04-01T11:51:51.666369Z",
          "shell.execute_reply": "2023-04-01T11:51:51.677856Z"
        },
        "trusted": true,
        "id": "YSPiwQF3p-7w"
      },
      "execution_count": 53,
      "outputs": []
    },
    {
      "cell_type": "code",
      "source": [
        "img_url = \"https://www.itnonline.com/sites/default/files/styles/content_large/public/Chest.jpeg?itok=6lDKVuVn\"\n",
        "\n",
        "im = Image.open(requests.get(img_url, stream=True).raw)\n",
        "im = im.convert('RGB')\n",
        "im.save('tmp.jpg')\n",
        "\n",
        "pred_caption = generate_caption('tmp.jpg', add_noise=False)\n",
        "print('Predicted Caption:', pred_caption)\n",
        "print()\n",
        "im"
      ],
      "metadata": {
        "execution": {
          "iopub.status.busy": "2023-04-01T11:52:47.292484Z",
          "iopub.execute_input": "2023-04-01T11:52:47.293181Z",
          "iopub.status.idle": "2023-04-01T11:52:48.261852Z",
          "shell.execute_reply.started": "2023-04-01T11:52:47.293141Z",
          "shell.execute_reply": "2023-04-01T11:52:48.260809Z"
        },
        "trusted": true,
        "id": "lP_QYEPgp-7w",
        "colab": {
          "base_uri": "https://localhost:8080/",
          "height": 452
        },
        "outputId": "3e5fe1ab-d65f-4bee-9635-70960db726b2"
      },
      "execution_count": 54,
      "outputs": [
        {
          "output_type": "stream",
          "name": "stdout",
          "text": [
            "Predicted Caption: the patient is diagnosed with covid\n",
            "\n"
          ]
        },
        {
          "output_type": "execute_result",
          "data": {
            "text/plain": [
              "<PIL.Image.Image image mode=RGB size=326x400>"
            ],
            "image/png": "[encoded data removed]"
          },
          "metadata": {},
          "execution_count": 54
        }
      ]
    },
    {
      "cell_type": "code",
      "source": [
        "caption_model.save_weights('CRD_effnet_Trn_LSTM.h5')"
      ],
      "metadata": {
        "execution": {
          "iopub.status.busy": "2023-04-01T11:51:52.080808Z",
          "iopub.status.idle": "2023-04-01T11:51:52.081595Z",
          "shell.execute_reply.started": "2023-04-01T11:51:52.081342Z",
          "shell.execute_reply": "2023-04-01T11:51:52.081367Z"
        },
        "trusted": true,
        "id": "8tNpzENrp-7x"
      },
      "execution_count": 55,
      "outputs": []
    },
    {
      "cell_type": "code",
      "source": [
        "from tensorflow.keras.callbacks import ModelCheckpoint"
      ],
      "metadata": {
        "execution": {
          "iopub.status.busy": "2023-04-01T11:51:52.082926Z",
          "iopub.status.idle": "2023-04-01T11:51:52.083678Z",
          "shell.execute_reply.started": "2023-04-01T11:51:52.083414Z",
          "shell.execute_reply": "2023-04-01T11:51:52.083439Z"
        },
        "trusted": true,
        "id": "XA47Otv8p-7x"
      },
      "execution_count": 56,
      "outputs": []
    },
    {
      "cell_type": "code",
      "source": [
        "checkpoint_callback = ModelCheckpoint(\n",
        "    \"/kaggle/working/Data/CRD_effnet_Trn_LSTM.h5\",\n",
        "    monitor=\"val_loss\",\n",
        "    save_best_only=True,\n",
        "    save_weights_only=True,\n",
        "    mode=\"min\",\n",
        "    verbose=1,\n",
        ")"
      ],
      "metadata": {
        "execution": {
          "iopub.status.busy": "2023-04-01T11:51:52.085055Z",
          "iopub.status.idle": "2023-04-01T11:51:52.085810Z",
          "shell.execute_reply.started": "2023-04-01T11:51:52.085549Z",
          "shell.execute_reply": "2023-04-01T11:51:52.085574Z"
        },
        "trusted": true,
        "id": "O53XnIHEp-7x"
      },
      "execution_count": 57,
      "outputs": []
    },
    {
      "cell_type": "code",
      "source": [
        "New_Epoch = 10"
      ],
      "metadata": {
        "execution": {
          "iopub.status.busy": "2023-04-01T11:51:52.087140Z",
          "iopub.status.idle": "2023-04-01T11:51:52.087890Z",
          "shell.execute_reply.started": "2023-04-01T11:51:52.087616Z",
          "shell.execute_reply": "2023-04-01T11:51:52.087641Z"
        },
        "trusted": true,
        "id": "VL-WQLIJp-7x"
      },
      "execution_count": 58,
      "outputs": []
    },
    {
      "cell_type": "code",
      "source": [
        "history1 = caption_model.fit(\n",
        "    train_dataset,\n",
        "    epochs=New_Epoch,\n",
        "    validation_data=val_dataset,\n",
        "    callbacks=[early_stopping, checkpoint_callback]\n",
        ")"
      ],
      "metadata": {
        "execution": {
          "iopub.status.busy": "2023-04-01T11:51:52.089202Z",
          "iopub.status.idle": "2023-04-01T11:51:52.089956Z",
          "shell.execute_reply.started": "2023-04-01T11:51:52.089682Z",
          "shell.execute_reply": "2023-04-01T11:51:52.089707Z"
        },
        "trusted": true,
        "id": "XqFwtz_Vp-7x",
        "colab": {
          "base_uri": "https://localhost:8080/"
        },
        "outputId": "cc9bf463-1d9d-4e63-f382-b62bba77330c"
      },
      "execution_count": 59,
      "outputs": [
        {
          "output_type": "stream",
          "name": "stdout",
          "text": [
            "Epoch 1/10\n",
            "150/150 [==============================] - ETA: 0s - loss: 0.3582 - acc: 0.8633\n",
            "Epoch 1: val_loss improved from inf to 0.35984, saving model to /kaggle/working/Data/CRD_effnet_Trn_LSTM.h5\n",
            "150/150 [==============================] - 280s 2s/step - loss: 0.3582 - acc: 0.8633 - val_loss: 0.3598 - val_acc: 0.8613\n",
            "Epoch 2/10\n",
            "150/150 [==============================] - ETA: 0s - loss: 0.3605 - acc: 0.8628\n",
            "Epoch 2: val_loss did not improve from 0.35984\n",
            "150/150 [==============================] - 302s 2s/step - loss: 0.3605 - acc: 0.8628 - val_loss: 0.3637 - val_acc: 0.8615\n",
            "Epoch 3/10\n",
            "150/150 [==============================] - ETA: 0s - loss: 0.3580 - acc: 0.8627\n",
            "Epoch 3: val_loss did not improve from 0.35984\n",
            "150/150 [==============================] - 303s 2s/step - loss: 0.3580 - acc: 0.8627 - val_loss: 0.3660 - val_acc: 0.8597\n",
            "Epoch 4/10\n",
            "150/150 [==============================] - ETA: 0s - loss: 0.3571 - acc: 0.8638\n",
            "Epoch 4: val_loss did not improve from 0.35984\n",
            "150/150 [==============================] - 303s 2s/step - loss: 0.3571 - acc: 0.8638 - val_loss: 0.3613 - val_acc: 0.8616\n"
          ]
        }
      ]
    },
    {
      "cell_type": "code",
      "source": [
        "plt.plot(history.history['loss'], label='train_loss')\n",
        "plt.plot(history.history['val_loss'], label='validation loss')\n",
        "plt.legend()\n",
        "plt.show()"
      ],
      "metadata": {
        "execution": {
          "iopub.status.busy": "2023-04-01T11:51:52.091292Z",
          "iopub.status.idle": "2023-04-01T11:51:52.092045Z",
          "shell.execute_reply.started": "2023-04-01T11:51:52.091766Z",
          "shell.execute_reply": "2023-04-01T11:51:52.091792Z"
        },
        "trusted": true,
        "id": "_fiYcnaDp-7y",
        "colab": {
          "base_uri": "https://localhost:8080/",
          "height": 433
        },
        "outputId": "71be4548-195e-4f4f-a923-d650381282a7"
      },
      "execution_count": 60,
      "outputs": [
        {
          "output_type": "display_data",
          "data": {
            "text/plain": [
              "<Figure size 640x480 with 1 Axes>"
            ],
            "image/png": "[encoded data removed]"
          },
          "metadata": {}
        }
      ]
    },
    {
      "cell_type": "code",
      "source": [
        "caption_model.save_weights('CRD_effnet_Trn_LSTM.h5')"
      ],
      "metadata": {
        "execution": {
          "iopub.status.busy": "2023-04-01T11:51:52.093348Z",
          "iopub.status.idle": "2023-04-01T11:51:52.094091Z",
          "shell.execute_reply.started": "2023-04-01T11:51:52.093834Z",
          "shell.execute_reply": "2023-04-01T11:51:52.093859Z"
        },
        "trusted": true,
        "id": "_ZqclFMTp-7y"
      },
      "execution_count": 61,
      "outputs": []
    }
  ]
}